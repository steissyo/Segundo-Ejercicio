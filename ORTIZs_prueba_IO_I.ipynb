{
  "nbformat": 4,
  "nbformat_minor": 0,
  "metadata": {
    "colab": {
      "provenance": [],
      "authorship_tag": "ABX9TyP/kwGQiMUQY4PcJImD7EjE",
      "include_colab_link": true
    },
    "kernelspec": {
      "name": "python3",
      "display_name": "Python 3"
    },
    "language_info": {
      "name": "python"
    }
  },
  "cells": [
    {
      "cell_type": "markdown",
      "metadata": {
        "id": "view-in-github",
        "colab_type": "text"
      },
      "source": [
        "<a href=\"https://colab.research.google.com/github/steissyo/Segundo-Ejercicio/blob/main/ORTIZs_prueba_IO_I.ipynb\" target=\"_parent\"><img src=\"https://colab.research.google.com/assets/colab-badge.svg\" alt=\"Open In Colab\"/></a>"
      ]
    },
    {
      "cell_type": "markdown",
      "source": [
        "# Primer ejercicio\n",
        "\n",
        "## Esto es un subtìtulo\n",
        "\n",
        "Esto es un texto normal\n"
      ],
      "metadata": {
        "id": "f4GNROAr3u7A"
      }
    },
    {
      "cell_type": "code",
      "execution_count": 5,
      "metadata": {
        "colab": {
          "base_uri": "https://localhost:8080/"
        },
        "id": "neh3eyPR2XD0",
        "outputId": "28a0d91a-ac05-4c69-a576-cc8de540543b"
      },
      "outputs": [
        {
          "output_type": "stream",
          "name": "stdout",
          "text": [
            "Buenos dias mundo\n"
          ]
        }
      ],
      "source": [
        "print (\"Buenos dias mundo\")"
      ]
    },
    {
      "cell_type": "markdown",
      "source": [
        "# Segundo ejercicio "
      ],
      "metadata": {
        "id": "913Gay7G4QAR"
      }
    },
    {
      "cell_type": "code",
      "source": [
        "print (\"Buenos dias, Steissy\")"
      ],
      "metadata": {
        "colab": {
          "base_uri": "https://localhost:8080/"
        },
        "id": "_PHPNkZI4aHJ",
        "outputId": "6c63dc86-49ff-4013-fff6-13d160963d49"
      },
      "execution_count": 6,
      "outputs": [
        {
          "output_type": "stream",
          "name": "stdout",
          "text": [
            "Buenos dias, Steissy\n"
          ]
        }
      ]
    }
  ]
}